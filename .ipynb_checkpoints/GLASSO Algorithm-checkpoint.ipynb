{
 "cells": [
  {
   "cell_type": "markdown",
   "metadata": {},
   "source": [
    "# Computing Project - GLASSO Algorithm\n",
    "### Adam Lee, Viviana Rosales, Carlos Rodriquez, Katrina Walker"
   ]
  },
  {
   "cell_type": "markdown",
   "metadata": {},
   "source": [
    "### Section 1: Implementing the Algorithm"
   ]
  },
  {
   "cell_type": "markdown",
   "metadata": {},
   "source": [
    "Something about the alg...."
   ]
  },
  {
   "cell_type": "markdown",
   "metadata": {},
   "source": [
    "### The Algorithm:"
   ]
  },
  {
   "cell_type": "code",
   "execution_count": 1,
   "metadata": {
    "collapsed": true
   },
   "outputs": [],
   "source": [
    "GLASSO <- function(Y, lambda = 0.05, t = 0.001, max_iter = 5000, beta_tol = 0.001){\n",
    "  \n",
    "  # Functions ---------------------------------------------------------------\n",
    "  \n",
    "  # Soft thresholding\n",
    "  S_func <- function(x, t){\n",
    "    sign(x) * max((abs(x) - t), 0)\n",
    "  }\n",
    "  \n",
    "  # update beta\n",
    "  update_beta <- function(u, V, beta, lambda){\n",
    "    for (i in seq(1, (p - 1))){\n",
    "      arg <- u[j] - V[-i,i] %*% beta[-i]\n",
    "      beta[i] <- S_func(arg, lambda)\n",
    "    }\n",
    "    return(beta)\n",
    "  }\n",
    "\n",
    "  # GLASSO ------------------------------------------------------------------\n",
    "  \n",
    "  # determine dimension\n",
    "  p <- ncol(Y)\n",
    "  \n",
    "  # compute sample covariance matrix\n",
    "  S <-  cov(Y)\n",
    "  \n",
    "  # compute tolerance\n",
    "  S_temp <- S\n",
    "  diag(S_temp) <- rep(0, p)\n",
    "  tol <- t * mean(abs(S_temp))\n",
    "  \n",
    "  # initialise W & W_new for loop\n",
    "  W <- S + lambda * diag(p)\n",
    "  W_new <- W\n",
    "  \n",
    "  # intialise B, Theta\n",
    "  B <- matrix(data=NA, nrow = (p - 1), ncol = p)\n",
    "  Theta <- matrix(data = NA, nrow = p, ncol = p)\n",
    "  \n",
    "  # set intial error and iteration counter\n",
    "  err <-  1\n",
    "  it  <-   0\n",
    "  beta_err <- 1\n",
    "  # loop\n",
    "  while (err > tol & it < max_iter){\n",
    "    \n",
    "    for (j in seq(1, p)){\n",
    "      \n",
    "      V <- W[-j, -j] \n",
    "      u <- S[-j, j]\n",
    "      \n",
    "      # initalise beta\n",
    "      beta <- rep(1, (p - 1))\n",
    "      \n",
    "      # cyclical co-ordinate-descent\n",
    "      while (beta_err > beta_tol){\n",
    "        beta_new <- update_beta(u, V, beta, lambda)\n",
    "        beta_err = norm(as.matrix(beta_new - beta), type = 'f')\n",
    "        beta <- beta_new\n",
    "      }\n",
    "      \n",
    "      # update w_12\n",
    "      W_new[-j, j] <- V %*% beta_new\n",
    "      B[,j] <- beta_new\n",
    "    }\n",
    "    \n",
    "    # update error and iteration counter\n",
    "    err <- mean(abs(W-W_new))\n",
    "    it <- it + 1 \n",
    "    \n",
    "    # update W\n",
    "    W <- W_new\n",
    "  }\n",
    "\n",
    "  # recover Theta\n",
    "  for (j in seq(1, p)){\n",
    "    Theta[j, j] <- 1 / (W[j, j] - W[-j, j] %*% B[, j])\n",
    "    Theta[-j, j] <- -B[, j] * Theta[j, j]\n",
    "  }\n",
    "  \n",
    "  return(Theta)\n",
    "}"
   ]
  },
  {
   "cell_type": "markdown",
   "metadata": {},
   "source": [
    "### Section 2: Demo"
   ]
  },
  {
   "cell_type": "code",
   "execution_count": 3,
   "metadata": {
    "collapsed": false
   },
   "outputs": [
    {
     "ename": "ERROR",
     "evalue": "Error in while (beta_err > beta_tol) {: missing value where TRUE/FALSE needed\n",
     "output_type": "error",
     "traceback": [
      "Error in while (beta_err > beta_tol) {: missing value where TRUE/FALSE needed\nTraceback:\n",
      "1. print(Theta_ident <- GLASSO(Y))",
      "2. GLASSO(Y)"
     ]
    }
   ],
   "source": [
    "# Import GLASSO  -----------------------------------------------------------\n",
    "source('glasso.R')\n",
    "\n",
    "# Shape Data -----------------------------------------------------------\n",
    "# Raw data\n",
    "amzn <- read.table(\"data/AMZN.csv\", header = TRUE, sep = \",\")\n",
    "ba <- read.table(\"data/BA.csv\", header = TRUE, sep = \",\")\n",
    "ibm <- read.table(\"data/IBM.csv\", header = TRUE, sep = \",\")\n",
    "orcl <- read.table(\"data/ORCL.csv\", header = TRUE, sep = \",\")\n",
    "aapl <- read.table(\"data/AAPL.csv\", header = TRUE, sep = \",\") \n",
    "nke <- read.table(\"data/NKE.csv\", header = TRUE, sep = \",\")\n",
    "\n",
    "T1 <- nrow(amzn)\n",
    "T2 <- nrow(ba)\n",
    "T3 <- nrow(ibm)\n",
    "T4 <- nrow(orcl)\n",
    "T5 <- nrow(aapl)\n",
    "T6 <- nrow(nke)\n",
    "\n",
    "# Inverts dataset\n",
    "D1 <- amzn[ seq(T1,1,-1) , ]\n",
    "D2 <- ba[ seq(T2,1,-1) , ]\n",
    "D3 <- ibm[ seq(T3,1,-1) , ]\n",
    "D4 <- orcl[ seq(T4,1,-1) , ]\n",
    "D5 <- aapl[ seq(T5,1,-1) , ]\n",
    "D6 <- nke[ seq(T6,1,-1) , ]\n",
    "\n",
    "# Constructs return dates\n",
    "dates <- as.Date( as.character( D1[,1] ) , '%Y-%m-%d' )\n",
    "dates <- as.Date( as.character( D2[,1] ) , '%Y-%m-%d' )\n",
    "dates <- as.Date( as.character( D3[,1] ) , '%Y-%m-%d' )\n",
    "dates <- as.Date( as.character( D4[,1] ) , '%Y-%m-%d' )\n",
    "dates <- as.Date( as.character( D5[,1] ) , '%Y-%m-%d' )\n",
    "dates <- as.Date( as.character( D6[,1] ) , '%Y-%m-%d' )\n",
    "\n",
    "# Construct prices\n",
    "p1 <- D1[,ncol(D1)];\n",
    "p2 <- D2[,ncol(D2)];\n",
    "p3 <- D3[,ncol(D3)];\n",
    "p4 <- D4[,ncol(D4)];\n",
    "p5 <- D5[,ncol(D5)];\n",
    "p6 <- D6[,ncol(D6)];\n",
    "\n",
    "# Construct returns\n",
    "amzn <- diff( log( p1 ) )*100\n",
    "ba <- diff( log( p2 ) )*100\n",
    "ibm <- diff( log( p3 ) )*100\n",
    "orcl <- diff( log( p4 ) )*100\n",
    "aapl <- diff( log( p5 ) )*100\n",
    "nke <- diff( log( p6 ) )*100\n",
    "\n",
    "# Pack dates and returns in a data frame\n",
    "returns <- cbind.data.frame(amzn, ba, ibm, orcl, aapl, nke)\n",
    "\n",
    "# Construct a covariance matrix with data to test -----------------------------------\n",
    "Y <- as.matrix(returns)\n",
    "\n",
    "# Run GLASSO -----------------------------------\n",
    "print(Theta_ident <- GLASSO(Y))\n"
   ]
  },
  {
   "cell_type": "markdown",
   "metadata": {},
   "source": [
    "### Section 3: How it Works"
   ]
  },
  {
   "cell_type": "markdown",
   "metadata": {},
   "source": [
    "Blablabla"
   ]
  },
  {
   "cell_type": "code",
   "execution_count": null,
   "metadata": {
    "collapsed": true
   },
   "outputs": [],
   "source": []
  }
 ],
 "metadata": {
  "kernelspec": {
   "display_name": "R",
   "language": "R",
   "name": "ir"
  },
  "language_info": {
   "codemirror_mode": "r",
   "file_extension": ".r",
   "mimetype": "text/x-r-source",
   "name": "R",
   "pygments_lexer": "r",
   "version": "3.3.2"
  }
 },
 "nbformat": 4,
 "nbformat_minor": 2
}
